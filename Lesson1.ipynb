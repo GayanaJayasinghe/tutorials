{
  "nbformat": 4,
  "nbformat_minor": 0,
  "metadata": {
    "colab": {
      "provenance": [],
      "toc_visible": true,
      "include_colab_link": true
    },
    "kernelspec": {
      "name": "python3",
      "display_name": "Python 3"
    },
    "language_info": {
      "name": "python"
    }
  },
  "cells": [
    {
      "cell_type": "markdown",
      "metadata": {
        "id": "view-in-github",
        "colab_type": "text"
      },
      "source": [
        "<a href=\"https://colab.research.google.com/github/GayanaJayasinghe/tutorials/blob/master/Lesson1.ipynb\" target=\"_parent\"><img src=\"https://colab.research.google.com/assets/colab-badge.svg\" alt=\"Open In Colab\"/></a>"
      ]
    },
    {
      "cell_type": "markdown",
      "source": [
        "# Baby steps\n"
      ],
      "metadata": {
        "id": "jY6LyTRiGVgn"
      }
    },
    {
      "cell_type": "markdown",
      "source": [
        "Let's try printing Hello world."
      ],
      "metadata": {
        "id": "znabJYHXGdCc"
      }
    },
    {
      "cell_type": "code",
      "source": [
        "print(\"Hello world!\")"
      ],
      "metadata": {
        "colab": {
          "base_uri": "https://localhost:8080/"
        },
        "id": "30npr_aV1qQx",
        "outputId": "c6a0d382-768b-4dd6-a5eb-947da89c1e60"
      },
      "execution_count": null,
      "outputs": [
        {
          "output_type": "stream",
          "name": "stdout",
          "text": [
            "Hello world!\n"
          ]
        }
      ]
    },
    {
      "cell_type": "markdown",
      "source": [
        "Congratulations! This is your first code. Now lets try changing it a little."
      ],
      "metadata": {
        "id": "QrLVFin-1x5-"
      }
    },
    {
      "cell_type": "code",
      "source": [
        "print(Hello world!)"
      ],
      "metadata": {
        "colab": {
          "base_uri": "https://localhost:8080/",
          "height": 105
        },
        "id": "rkctn6UQ12Fv",
        "outputId": "da478de3-1615-49f9-a92d-70136c54f8e3"
      },
      "execution_count": null,
      "outputs": [
        {
          "output_type": "error",
          "ename": "SyntaxError",
          "evalue": "invalid syntax. Perhaps you forgot a comma? (<ipython-input-2-01a3c6a17cb8>, line 1)",
          "traceback": [
            "\u001b[0;36m  File \u001b[0;32m\"<ipython-input-2-01a3c6a17cb8>\"\u001b[0;36m, line \u001b[0;32m1\u001b[0m\n\u001b[0;31m    print(Hello world!)\u001b[0m\n\u001b[0m          ^\u001b[0m\n\u001b[0;31mSyntaxError\u001b[0m\u001b[0;31m:\u001b[0m invalid syntax. Perhaps you forgot a comma?\n"
          ]
        }
      ]
    },
    {
      "cell_type": "markdown",
      "source": [
        "This didn't work. What you have above is called an error message. That is because the computer cannot **interpret** the **instruction** that was just used. When we enter a command to print with values, we need to insert quotes. This denotes that the type of information we are entering is a string. Let us try a sequence of commands to test this.\n"
      ],
      "metadata": {
        "id": "pQwVAUyk2JGo"
      }
    },
    {
      "cell_type": "code",
      "source": [
        "A=\"Hello world!\"\n",
        "print(A)"
      ],
      "metadata": {
        "colab": {
          "base_uri": "https://localhost:8080/"
        },
        "id": "Z4w4K2R42TDu",
        "outputId": "2fed5e43-f052-4fcf-e7cc-a4cfb59e8b8b"
      },
      "execution_count": null,
      "outputs": [
        {
          "output_type": "stream",
          "name": "stdout",
          "text": [
            "Hello world!\n"
          ]
        }
      ]
    },
    {
      "cell_type": "markdown",
      "source": [
        "What happened here? We first declare a variable A, and set it's value to be a string \"Hello world!\". We can sheck this as follows."
      ],
      "metadata": {
        "id": "Anld1s002ypC"
      }
    },
    {
      "cell_type": "code",
      "source": [
        "A=\"Hello world!\"\n",
        "print(type(A))\n",
        "print(A)"
      ],
      "metadata": {
        "colab": {
          "base_uri": "https://localhost:8080/"
        },
        "id": "q1F7RKSl3Aaj",
        "outputId": "cd84ac48-1720-4f48-8019-972cd2986a01"
      },
      "execution_count": null,
      "outputs": [
        {
          "output_type": "stream",
          "name": "stdout",
          "text": [
            "<class 'str'>\n",
            "Hello world!\n"
          ]
        }
      ]
    },
    {
      "cell_type": "markdown",
      "source": [
        "The instruction type(A) takes the type of the variable A and it is printed by the print command.\n",
        "Lets try and see the type of another variable."
      ],
      "metadata": {
        "id": "ittWajNO3M-0"
      }
    },
    {
      "cell_type": "code",
      "source": [
        "B=23\n",
        "print(type(B))\n",
        "print(B)"
      ],
      "metadata": {
        "colab": {
          "base_uri": "https://localhost:8080/"
        },
        "id": "pVSxVx9x3ZeJ",
        "outputId": "c0e74d56-2ef9-47fa-d486-0e12ea45f9ed"
      },
      "execution_count": null,
      "outputs": [
        {
          "output_type": "stream",
          "name": "stdout",
          "text": [
            "<class 'int'>\n",
            "23\n"
          ]
        }
      ]
    },
    {
      "cell_type": "markdown",
      "source": [
        "The first line of the three above declares a variable B and stores the value 23 in it. It is stored as an integer type variable, which is shortened and denoted as 'int'.\n",
        "The second line prints this.\n",
        "The third line prints the value of B.\n",
        "\n",
        "Lets try another version of this."
      ],
      "metadata": {
        "id": "FGugoptQ3fIB"
      }
    },
    {
      "cell_type": "code",
      "source": [
        "A=\"31\"\n",
        "B=23\n",
        "print(type(A))\n",
        "print(type(B))\n",
        "print(A)\n",
        "print(B)"
      ],
      "metadata": {
        "colab": {
          "base_uri": "https://localhost:8080/"
        },
        "id": "tHpsoPGk4Dhe",
        "outputId": "f3f30d78-4465-4670-f3dc-8a5f8412dd91"
      },
      "execution_count": null,
      "outputs": [
        {
          "output_type": "stream",
          "name": "stdout",
          "text": [
            "<class 'str'>\n",
            "<class 'int'>\n",
            "31\n",
            "23\n"
          ]
        }
      ]
    },
    {
      "cell_type": "markdown",
      "source": [
        "Can you interpret what happens in these lines?\n",
        "Look at the earlier examples and compare.\n",
        "\n",
        "Let us now try another set of instructions."
      ],
      "metadata": {
        "id": "ZnKbN3Ne4FPO"
      }
    },
    {
      "cell_type": "code",
      "source": [
        "A=\"31\"\n",
        "B=23\n",
        "C=45\n",
        "D=\"55\"\n",
        "print(B+C)\n",
        "print(A+D)\n",
        "print(A+B)"
      ],
      "metadata": {
        "colab": {
          "base_uri": "https://localhost:8080/",
          "height": 207
        },
        "id": "HjUywqGf9HQ9",
        "outputId": "ebbc30fe-822c-48f2-cc41-cb40d6e406a5"
      },
      "execution_count": null,
      "outputs": [
        {
          "output_type": "stream",
          "name": "stdout",
          "text": [
            "68\n",
            "3155\n"
          ]
        },
        {
          "output_type": "error",
          "ename": "TypeError",
          "evalue": "can only concatenate str (not \"int\") to str",
          "traceback": [
            "\u001b[0;31m---------------------------------------------------------------------------\u001b[0m",
            "\u001b[0;31mTypeError\u001b[0m                                 Traceback (most recent call last)",
            "\u001b[0;32m<ipython-input-6-6c4ceb888ab0>\u001b[0m in \u001b[0;36m<cell line: 7>\u001b[0;34m()\u001b[0m\n\u001b[1;32m      5\u001b[0m \u001b[0mprint\u001b[0m\u001b[0;34m(\u001b[0m\u001b[0mB\u001b[0m\u001b[0;34m+\u001b[0m\u001b[0mC\u001b[0m\u001b[0;34m)\u001b[0m\u001b[0;34m\u001b[0m\u001b[0;34m\u001b[0m\u001b[0m\n\u001b[1;32m      6\u001b[0m \u001b[0mprint\u001b[0m\u001b[0;34m(\u001b[0m\u001b[0mA\u001b[0m\u001b[0;34m+\u001b[0m\u001b[0mD\u001b[0m\u001b[0;34m)\u001b[0m\u001b[0;34m\u001b[0m\u001b[0;34m\u001b[0m\u001b[0m\n\u001b[0;32m----> 7\u001b[0;31m \u001b[0mprint\u001b[0m\u001b[0;34m(\u001b[0m\u001b[0mA\u001b[0m\u001b[0;34m+\u001b[0m\u001b[0mB\u001b[0m\u001b[0;34m)\u001b[0m\u001b[0;34m\u001b[0m\u001b[0;34m\u001b[0m\u001b[0m\n\u001b[0m",
            "\u001b[0;31mTypeError\u001b[0m: can only concatenate str (not \"int\") to str"
          ]
        }
      ]
    },
    {
      "cell_type": "markdown",
      "source": [
        "What happened here? First the code returned 68, which is the sum of the integers B and C. Then in the second line it returned what we call the concatenation of the two strings A and D. Basically it combined the two strings \"31\"+\"55\" and gave the new string variable \"3155\". Then it tried to do either summing or concatenating A and B, but since they are of different data types, there is no operation in python that adds such data types together, so it returned an error.\n",
        "\n",
        "Lets explore this with the following code."
      ],
      "metadata": {
        "id": "aKb2hfx29sW7"
      }
    },
    {
      "cell_type": "code",
      "source": [
        "A=\"31\"\n",
        "B=23\n",
        "C=45\n",
        "D=\"55\"\n",
        "print(B+C)\n",
        "print(type(B+C))\n",
        "print(A+D)\n",
        "print(type(A+D))"
      ],
      "metadata": {
        "colab": {
          "base_uri": "https://localhost:8080/"
        },
        "id": "vZP_AKNf-Wm3",
        "outputId": "39b269a6-c599-4b84-8162-529f4379bf5b"
      },
      "execution_count": null,
      "outputs": [
        {
          "output_type": "stream",
          "name": "stdout",
          "text": [
            "68\n",
            "<class 'int'>\n",
            "3155\n",
            "<class 'str'>\n"
          ]
        }
      ]
    },
    {
      "cell_type": "markdown",
      "source": [
        "We can also do the following variations."
      ],
      "metadata": {
        "id": "BQcg66ii-pVf"
      }
    },
    {
      "cell_type": "code",
      "source": [
        "A=\"31\"\n",
        "B=23\n",
        "C=45\n",
        "D=\"55\"\n",
        "print(str(B)+str(C))\n",
        "print(int(A)+int(D))"
      ],
      "metadata": {
        "colab": {
          "base_uri": "https://localhost:8080/"
        },
        "id": "4vu9O6Gh-tQ_",
        "outputId": "d31a880e-5a20-4a1b-9312-2a5a32401c38"
      },
      "execution_count": null,
      "outputs": [
        {
          "output_type": "stream",
          "name": "stdout",
          "text": [
            "2345\n",
            "86\n"
          ]
        }
      ]
    },
    {
      "cell_type": "markdown",
      "source": [
        "So the instruction + is said to be overloaded. It means that is means different things based on context. Even in human conversations and human languages used for communication, many things depend on context. It is the same with programming languages."
      ],
      "metadata": {
        "id": "Yo8Z50mX_DJP"
      }
    },
    {
      "cell_type": "markdown",
      "source": [
        "A computer can check if certain statements are true or false. It can compare if two quantities are equal or not."
      ],
      "metadata": {
        "id": "qysAs5EtAPiY"
      }
    },
    {
      "cell_type": "code",
      "source": [
        "A=2\n",
        "B=3\n",
        "C=3\n",
        "#The next line checks if the values in A and B are equal, and stores it in a boolean variable internally, the value of which is printed.\n",
        "print(A==B)\n",
        "#The next line checks if the values in A and B are NOT equal, and stores it in a boolean variable internally, the value of which is printed.\n",
        "print(A!=B)\n",
        "#The next line checks if the values in B and C are equal, and stores it in a boolean variable internally, the value of which is printed.\n",
        "print(B==C)\n",
        "#The next line checks if the values in B and C are NOT equal, and stores it in a boolean variable internally, the value of which is printed.\n",
        "print(B!=C)\n",
        "\n",
        "#The next line checks if the values in A and B are equal, and stores it in a boolean variable D.\n",
        "D=(A==B)\n",
        "#The next line prints the type of the variable D\n",
        "print(type(D))\n",
        "#The next line prints the value of D\n",
        "print(D)"
      ],
      "metadata": {
        "colab": {
          "base_uri": "https://localhost:8080/"
        },
        "id": "jfPv465uAZNU",
        "outputId": "c7bdc7c2-8cea-487a-b412-c2acd6b26556"
      },
      "execution_count": null,
      "outputs": [
        {
          "output_type": "stream",
          "name": "stdout",
          "text": [
            "False\n",
            "True\n",
            "True\n",
            "False\n",
            "<class 'bool'>\n",
            "False\n"
          ]
        }
      ]
    },
    {
      "cell_type": "markdown",
      "source": [
        "We have added comments to the code which explains each line of code. Try adjusting the values of A, B, C and see what happens."
      ],
      "metadata": {
        "id": "tBNHBIBNBuwW"
      }
    },
    {
      "cell_type": "markdown",
      "source": [
        "The computer can also do things based on whether not the value of a boolean statement is true or false. Consider the following code snippets."
      ],
      "metadata": {
        "id": "l-TqRw3iDc1Q"
      }
    },
    {
      "cell_type": "code",
      "source": [
        "if True:\n",
        "  print(1)\n",
        "else:\n",
        "  print(2)"
      ],
      "metadata": {
        "colab": {
          "base_uri": "https://localhost:8080/"
        },
        "id": "LFXQUp7oDpU8",
        "outputId": "220b25d3-1856-4a0b-a333-3ef69223e1a1"
      },
      "execution_count": null,
      "outputs": [
        {
          "output_type": "stream",
          "name": "stdout",
          "text": [
            "1\n"
          ]
        }
      ]
    },
    {
      "cell_type": "code",
      "source": [
        "if False:\n",
        "  print(1)\n",
        "else:\n",
        "  print(2)"
      ],
      "metadata": {
        "colab": {
          "base_uri": "https://localhost:8080/"
        },
        "id": "nwsOhicQECY-",
        "outputId": "51cb2de9-87c4-4678-aeaa-feb1d48f6990"
      },
      "execution_count": null,
      "outputs": [
        {
          "output_type": "stream",
          "name": "stdout",
          "text": [
            "2\n"
          ]
        }
      ]
    },
    {
      "cell_type": "code",
      "source": [
        "A=2\n",
        "B=3\n",
        "if A+B==5:\n",
        "  print(1)\n",
        "else:\n",
        "  print(2)\n"
      ],
      "metadata": {
        "colab": {
          "base_uri": "https://localhost:8080/"
        },
        "id": "lo7tx7UBEHV4",
        "outputId": "d82d68d8-5ce8-41f8-b046-5e8af0fea0bd"
      },
      "execution_count": null,
      "outputs": [
        {
          "output_type": "stream",
          "name": "stdout",
          "text": [
            "1\n"
          ]
        }
      ]
    },
    {
      "cell_type": "markdown",
      "source": [
        "In the last code snippet, two variables A and B are declared and the values A=2 and B=3 are stored within it. Then in the if condition, it is checked if A+B==5, which returns a boolean value, True or False. If True is returned, then the instructions below that if condition are executed. Here is another variation of the above code snippet."
      ],
      "metadata": {
        "id": "R5oDIrwLEWyU"
      }
    },
    {
      "cell_type": "code",
      "source": [
        "A=2\n",
        "B=3\n",
        "C=A+B\n",
        "if C==5:\n",
        "  print(\"Bright skies\")\n",
        "else:\n",
        "  print(\"Darkness\")\n"
      ],
      "metadata": {
        "colab": {
          "base_uri": "https://localhost:8080/"
        },
        "id": "fmeW0CIiEWML",
        "outputId": "686e4f10-0866-400f-dcb4-cb8d02edfaba"
      },
      "execution_count": null,
      "outputs": [
        {
          "output_type": "stream",
          "name": "stdout",
          "text": [
            "Bright skies\n"
          ]
        }
      ]
    },
    {
      "cell_type": "markdown",
      "source": [
        "Here's another."
      ],
      "metadata": {
        "id": "Wk5mLQMsFICx"
      }
    },
    {
      "cell_type": "code",
      "source": [
        "A=\"App\"\n",
        "B=\"le\"\n",
        "C=A+B\n",
        "if C==\"Apple\":\n",
        "  print(\"Bright skies\")\n",
        "else:\n",
        "  print(\"Darkness\")\n"
      ],
      "metadata": {
        "colab": {
          "base_uri": "https://localhost:8080/"
        },
        "id": "_YbPACR-FKaT",
        "outputId": "5be37c24-7e3b-4ec3-8faf-cdcc4dfe93b1"
      },
      "execution_count": null,
      "outputs": [
        {
          "output_type": "stream",
          "name": "stdout",
          "text": [
            "Bright skies\n"
          ]
        }
      ]
    },
    {
      "cell_type": "markdown",
      "source": [
        "And another"
      ],
      "metadata": {
        "id": "gpL8M8yFFUMJ"
      }
    },
    {
      "cell_type": "code",
      "source": [
        "A=\"App\"\n",
        "B=\"le\"\n",
        "C=A+B\n",
        "if C==\"Appe\":\n",
        "  print(\"Bright skies\")\n",
        "else:\n",
        "  print(\"Darkness\")"
      ],
      "metadata": {
        "colab": {
          "base_uri": "https://localhost:8080/"
        },
        "id": "FvlXeGQzFWUv",
        "outputId": "8de59259-b953-4706-e21d-4ae5e1be84c5"
      },
      "execution_count": null,
      "outputs": [
        {
          "output_type": "stream",
          "name": "stdout",
          "text": [
            "Darkness\n"
          ]
        }
      ]
    },
    {
      "cell_type": "markdown",
      "source": [
        "We observe that the number of spaces, or tabs is important. This is called indentation, and the python language needs proper indentation. Let's try a code without proper indentation."
      ],
      "metadata": {
        "id": "EZ8B1pVNIz3V"
      }
    },
    {
      "cell_type": "code",
      "source": [
        "A=\"App\"\n",
        "B=\"le\"\n",
        "C=A+B\n",
        "if C==\"Appe\":\n",
        "print(\"Bright skies\")\n",
        "else:\n",
        "  print(\"Darkness\")"
      ],
      "metadata": {
        "colab": {
          "base_uri": "https://localhost:8080/",
          "height": 105
        },
        "id": "iPqOX5nWJCmm",
        "outputId": "36c71513-2012-4b02-962f-1a7a00d89e05"
      },
      "execution_count": null,
      "outputs": [
        {
          "output_type": "error",
          "ename": "IndentationError",
          "evalue": "expected an indented block after 'if' statement on line 4 (<ipython-input-9-ff8ed50245b2>, line 5)",
          "traceback": [
            "\u001b[0;36m  File \u001b[0;32m\"<ipython-input-9-ff8ed50245b2>\"\u001b[0;36m, line \u001b[0;32m5\u001b[0m\n\u001b[0;31m    print(\"Bright skies\")\u001b[0m\n\u001b[0m    ^\u001b[0m\n\u001b[0;31mIndentationError\u001b[0m\u001b[0;31m:\u001b[0m expected an indented block after 'if' statement on line 4\n"
          ]
        }
      ]
    },
    {
      "cell_type": "markdown",
      "source": [
        "So we have to be careful with the data types and indenation, so that the computer understands what we are telling it. Let's see if we can put these together to have a useful code."
      ],
      "metadata": {
        "id": "SB_KQci3Fc3d"
      }
    },
    {
      "cell_type": "code",
      "source": [
        "Cricket_team_1_total=245\n",
        "Cricket_team_2_total=250\n",
        "if Cricket_team_1_total>Cricket_team_2_total:\n",
        "  print(\"Team 1 wins\")\n",
        "else:\n",
        "  print(\"Team 2 wins\")"
      ],
      "metadata": {
        "colab": {
          "base_uri": "https://localhost:8080/"
        },
        "id": "OdWQARjCGxHt",
        "outputId": "da38ca1a-2d69-473d-fc50-e2ff4ac3a793"
      },
      "execution_count": null,
      "outputs": [
        {
          "output_type": "stream",
          "name": "stdout",
          "text": [
            "Team 2 wins\n"
          ]
        }
      ]
    },
    {
      "cell_type": "markdown",
      "source": [
        "How do you handle the case if there is a draw? There are two ways to do it. One is to use another if else statement."
      ],
      "metadata": {
        "id": "N272qp4cInex"
      }
    },
    {
      "cell_type": "code",
      "source": [
        "Cricket_team_1_total=245\n",
        "Cricket_team_2_total=245\n",
        "if Cricket_team_1_total>Cricket_team_2_total:\n",
        "  print(\"Team 1 wins\")\n",
        "else:\n",
        "  if Cricket_team_1_total==Cricket_team_2_total:\n",
        "    print(\"Draw\")\n",
        "  else:\n",
        "    print(\"Team 2 wins\")"
      ],
      "metadata": {
        "colab": {
          "base_uri": "https://localhost:8080/"
        },
        "id": "py_9CQyAIwUI",
        "outputId": "721b74ee-6abd-46db-d4d3-d6436fe7a8b1"
      },
      "execution_count": null,
      "outputs": [
        {
          "output_type": "stream",
          "name": "stdout",
          "text": [
            "Draw\n"
          ]
        }
      ]
    },
    {
      "cell_type": "markdown",
      "source": [
        "What we have above is an if condition within another else condition. We call these nested conditionals. For the above problem we have simply used it to check multiple conditions. However that can be handled using the elif condition (shortened for the logical statement else if)."
      ],
      "metadata": {
        "id": "O1bV7f3WJgcf"
      }
    },
    {
      "cell_type": "code",
      "source": [
        "Cricket_team_1_total=245\n",
        "Cricket_team_2_total=245\n",
        "if Cricket_team_1_total>Cricket_team_2_total:\n",
        "  print(\"Team 1 wins\")\n",
        "elif Cricket_team_1_total==Cricket_team_2_total:\n",
        "  print(\"Draw\")\n",
        "else:\n",
        "  print(\"Team 2 wins\")"
      ],
      "metadata": {
        "colab": {
          "base_uri": "https://localhost:8080/"
        },
        "id": "w_yvT7ykJpB3",
        "outputId": "0ac28243-773b-45a2-dd67-25275fba292b"
      },
      "execution_count": null,
      "outputs": [
        {
          "output_type": "stream",
          "name": "stdout",
          "text": [
            "Draw\n"
          ]
        }
      ]
    },
    {
      "cell_type": "markdown",
      "source": [
        "Let's look at the following code, which we can use to take user inputs, and then print it.\n"
      ],
      "metadata": {
        "id": "VvmA9e4Ylp4k"
      }
    },
    {
      "cell_type": "code",
      "source": [
        "user_input = input(\"User input: \")\n",
        "print(user_input)"
      ],
      "metadata": {
        "colab": {
          "base_uri": "https://localhost:8080/"
        },
        "id": "E4urHO7jlwvm",
        "outputId": "5c82eb49-5e02-4fd4-b7e6-824bcdc2426f"
      },
      "execution_count": null,
      "outputs": [
        {
          "output_type": "stream",
          "name": "stdout",
          "text": [
            "User input: Print me\n",
            "Print me\n"
          ]
        }
      ]
    },
    {
      "cell_type": "markdown",
      "source": [
        "We can use this command to build a small code to check who won, given the scores of two teams. Let's now ask the AI to generate this for us."
      ],
      "metadata": {
        "id": "yiAkAPfwl416"
      }
    },
    {
      "cell_type": "code",
      "source": [
        "# prompt: Take two user inputs called \"Total of team 1\" and \"Total of team 2\"\n",
        "\n",
        "team1_total = input(\"Total of team 1: \")\n",
        "team2_total = input(\"Total of team 2: \")\n"
      ],
      "metadata": {
        "id": "585_gSXZmTg3"
      },
      "execution_count": null,
      "outputs": []
    },
    {
      "cell_type": "markdown",
      "source": [
        "The AI can be thought of as a helper. You the human wants to write a code. But it takes time to type code. And you have to be very specific, and use the correct syntax when coding. The AI is like a very smart coder, who can interpret very high level prompts, similar to humans. When we tell a human to \"write a code that takes two variables called a, and b, and return the difference of them\", a human will take some time and write that code. The AI helper does this in a shorter time. Later in the course we will discuss how this is achieved if we have time. For now, lets try the following prompt."
      ],
      "metadata": {
        "id": "0CEzCyICmi74"
      }
    },
    {
      "cell_type": "code",
      "source": [
        "# prompt: write a code that takes two variables called a, and b, and return the difference of them\n",
        "\n",
        "def difference(a, b):\n",
        "  return a - b\n"
      ],
      "metadata": {
        "id": "3ycFOWALnSnN"
      },
      "execution_count": null,
      "outputs": []
    },
    {
      "cell_type": "markdown",
      "source": [
        "So the AI generated a code which is a bit more advanced than what we were looking for. Sometimes even humans do not understand us the first time, and we have to describe things in more detail. Let's ask it again to try and get a simpler code, by describing what we want in more detail."
      ],
      "metadata": {
        "id": "Ge_fT4YvncKt"
      }
    },
    {
      "cell_type": "code",
      "source": [
        "# prompt: Take two user inputs, called a and b. Then take their difference, store it in a variable c. Then print c\n",
        "\n",
        "a = int(input(\"Enter a: \"))\n",
        "b = int(input(\"Enter b: \"))\n",
        "c = a - b\n",
        "print(c)\n"
      ],
      "metadata": {
        "id": "zsGVreIYnxOK"
      },
      "execution_count": null,
      "outputs": []
    },
    {
      "cell_type": "markdown",
      "source": [
        "That's much better. You can ask the AI to write code for you. But make sure you understand what it is doing at each step.\n",
        "\n",
        "Now let us try modifying the code we had earlier."
      ],
      "metadata": {
        "id": "-pV4MUu1n8ZE"
      }
    },
    {
      "cell_type": "code",
      "source": [
        "team1_total = input(\"Total of team 1: \")\n",
        "team2_total = input(\"Total of team 2: \")\n",
        "if team1_total>team2_total:\n",
        "  print(\"Team 1 wins\")\n",
        "elif team1_total==team2_total:\n",
        "  print(\"Draw\")\n",
        "else:\n",
        "  print(\"Team 2 wins\")\n"
      ],
      "metadata": {
        "colab": {
          "base_uri": "https://localhost:8080/"
        },
        "id": "aB7cJJmvoITz",
        "outputId": "5b0361bb-b0d4-4a91-a15c-6ea5b10cbb08"
      },
      "execution_count": null,
      "outputs": [
        {
          "output_type": "stream",
          "name": "stdout",
          "text": [
            "Total of team 1: 45\n",
            "Total of team 2: 45\n",
            "Draw\n"
          ]
        }
      ]
    },
    {
      "cell_type": "markdown",
      "source": [
        "Lets try prompting the AI for this code, or something similar. We will write in \"natural language\", or human friendly language, and the AI will translate it to a computer friendly language, or to a code in the python language."
      ],
      "metadata": {
        "id": "24ijhJTAodjo"
      }
    },
    {
      "cell_type": "code",
      "source": [
        "# prompt: Take two user inputs called team1_total and tean2_total corresponding to the teams 1 and 2. Write a code that prints which team has won, or whether the match is drawn\n",
        "\n",
        "team1_total = int(input(\"Total of team 1: \"))\n",
        "team2_total = int(input(\"Total of team 2: \"))\n",
        "if team1_total > team2_total:\n",
        "  print(\"Team 1 wins\")\n",
        "elif team1_total == team2_total:\n",
        "  print(\"Draw\")\n",
        "else:\n",
        "  print(\"Team 2 wins\")\n"
      ],
      "metadata": {
        "id": "yvh4Keq1olRR"
      },
      "execution_count": null,
      "outputs": []
    },
    {
      "cell_type": "markdown",
      "source": [
        "You see that the AI gave us the same code as above. This is no coincidence. The AI remembers everything in this sheet, and uses the context coming from previous prompts to understand how the human has been prompting. Notice that in my prompt we added a spelling mistake \"tean2_total\" rather than \"team2_total\". This was a wilful error that I made. Auto correcting aside, it reads what we said carefully, and even reads the text that is written here.\n",
        "Let's try a different code."
      ],
      "metadata": {
        "id": "a0i_EhWhpP8B"
      }
    },
    {
      "cell_type": "code",
      "source": [
        "# prompt: Take three inputs called length, width and height. Compute the volume and store it in a variable. Then print it.\n",
        "\n",
        "length = int(input(\"Enter length: \"))\n",
        "width = int(input(\"Enter width: \"))\n",
        "height = int(input(\"Enter height: \"))\n",
        "volume = length * width * height\n",
        "print(volume)\n"
      ],
      "metadata": {
        "id": "wKVFdwAhp_4n",
        "colab": {
          "base_uri": "https://localhost:8080/"
        },
        "outputId": "40f1852f-260f-49b2-d52f-22185421d8cc"
      },
      "execution_count": null,
      "outputs": [
        {
          "output_type": "stream",
          "name": "stdout",
          "text": [
            "Enter length: 3\n",
            "Enter width: 4\n",
            "Enter height: 3\n",
            "36\n"
          ]
        }
      ]
    },
    {
      "cell_type": "markdown",
      "source": [
        "We did not even have to say how to compute the volume. It found an example from some data on the internet (or when it was trained), and even says where it got it from. Notice how it came up with suitable variable names which makes things much clearer to read. This is a good coding practice.\n",
        "Now lets try another code."
      ],
      "metadata": {
        "id": "MHQf-HybqY_j"
      }
    },
    {
      "cell_type": "code",
      "source": [
        "# prompt: Write a code that can compute the volume of a cylinder and print it, after taking inputs radius and height\n",
        "\n",
        "import math\n",
        "\n",
        "radius = float(input(\"Enter radius: \"))\n",
        "height = float(input(\"Enter height: \"))\n",
        "volume = math.pi * radius**2 * height\n",
        "print(volume)\n"
      ],
      "metadata": {
        "id": "t57XZifvq4-8",
        "colab": {
          "base_uri": "https://localhost:8080/"
        },
        "outputId": "c978fc97-22bf-4008-cfa4-07d888973d90"
      },
      "execution_count": null,
      "outputs": [
        {
          "output_type": "stream",
          "name": "stdout",
          "text": [
            "Enter radius: 3\n",
            "Enter height: 4\n",
            "113.09733552923255\n"
          ]
        }
      ]
    },
    {
      "cell_type": "markdown",
      "source": [
        "Can you understand the above code? What is float? Basically its a data type that allows decimal places.\n",
        "We will discuss that data type later in more detail. The symbol * is multiplication. The symbol ** is the power. So radius**2 is the square of the radius.\n",
        "\n",
        "It also imported math.pi. We will discuss what this means later. Let's try to ask the AI to write a code without importing math."
      ],
      "metadata": {
        "id": "r3sAnAWArNUX"
      }
    },
    {
      "cell_type": "code",
      "source": [
        "# prompt: Write a code that can compute the volume of a cylinder and print it, after taking inputs radius and height. Don't import anything.\n",
        "\n",
        "radius = float(input(\"Enter radius: \"))\n",
        "height = float(input(\"Enter height: \"))\n",
        "pi = 3.14159265359\n",
        "volume = pi * radius**2 * height\n",
        "print(volume)\n"
      ],
      "metadata": {
        "id": "mLFmZhTOrI8R"
      },
      "execution_count": null,
      "outputs": []
    },
    {
      "cell_type": "markdown",
      "source": [
        "So now it approximated pi.\n",
        "\n",
        "Let's try and generate one more code with if else conditions."
      ],
      "metadata": {
        "id": "F80_WxZ8rvE5"
      }
    },
    {
      "cell_type": "code",
      "source": [
        "# prompt: Take 3 user inputs called height of John, height of Joan, height of William. If william is taller than Joan, print it. If Joan is taller than william print it\n",
        "\n",
        "height_john = int(input(\"Enter height of John: \"))\n",
        "height_joan = int(input(\"Enter height of Joan: \"))\n",
        "height_william = int(input(\"Enter height of William: \"))\n",
        "if height_william > height_joan:\n",
        "  print(\"William is taller than Joan\")\n",
        "elif height_joan > height_william:\n",
        "  print(\"Joan is taller than William\")\n"
      ],
      "metadata": {
        "id": "YCbYhiSHr3iS"
      },
      "execution_count": null,
      "outputs": []
    },
    {
      "cell_type": "markdown",
      "source": [
        "Note that it is taking the heights to be integers. We want to measure height in meters, but with decimal places. So we need to use float. We can modify this ourselves since we understand it."
      ],
      "metadata": {
        "id": "N3a4iOTTsRXI"
      }
    },
    {
      "cell_type": "code",
      "source": [
        "# prompt: Consider the heights of the people obtained with user inputs, sort them in descending order using if else condition, the print their names in descending order\n",
        "\n",
        "height_john = float(input(\"Enter height of John: \"))\n",
        "height_joan = float(input(\"Enter height of Joan: \"))\n",
        "height_william = float(input(\"Enter height of William: \"))\n",
        "\n",
        "if height_john >= height_joan and height_john >= height_william:\n",
        "  tallest = \"John\"\n",
        "  if height_joan >= height_william:\n",
        "    second_tallest = \"Joan\"\n",
        "    shortest = \"William\"\n",
        "  else:\n",
        "    second_tallest = \"William\"\n",
        "    shortest = \"Joan\"\n",
        "elif height_joan >= height_john and height_joan >= height_william:\n",
        "  tallest = \"Joan\"\n",
        "  if height_john >= height_william:\n",
        "    second_tallest = \"John\"\n",
        "    shortest = \"William\"\n",
        "  else:\n",
        "    second_tallest = \"William\"\n",
        "    shortest = \"John\"\n",
        "else:\n",
        "  tallest = \"William\"\n",
        "  if height_john >= height_joan:\n",
        "    second_tallest = \"John\"\n",
        "    shortest = \"Joan\"\n",
        "  else:\n",
        "    second_tallest = \"Joan\"\n",
        "    shortest = \"John\"\n",
        "\n",
        "print(tallest)\n",
        "print(second_tallest)\n",
        "print(shortest)\n"
      ],
      "metadata": {
        "colab": {
          "base_uri": "https://localhost:8080/"
        },
        "id": "SGdiDGgPsUMI",
        "outputId": "6e4f0db7-2ed4-4d28-e0e8-0e7aec9f5fe9"
      },
      "execution_count": null,
      "outputs": [
        {
          "output_type": "stream",
          "name": "stdout",
          "text": [
            "Enter height of John: 1.6\n",
            "Enter height of Joan: 1.5\n",
            "Enter height of William: 1.3\n",
            "John\n",
            "Joan\n",
            "William\n"
          ]
        }
      ]
    },
    {
      "cell_type": "markdown",
      "source": [
        "See how easy that was? I didn't even have to say the names again because the AI can see the names i used in the previous prompt. It is also reading even these lines in the text. See if you can understand every step of the code.\n",
        "The \"and\" boolean operator checks if two boolean variables are both true, and returns a boolean value true, and if not it returns false. We can check it like this."
      ],
      "metadata": {
        "id": "CZ8d4S05ua47"
      }
    },
    {
      "cell_type": "code",
      "source": [
        "print(True and True)\n",
        "print(True and False)\n",
        "print(False and True)\n",
        "print(False and False)\n"
      ],
      "metadata": {
        "id": "vPVo4k-0u9td",
        "outputId": "239855f9-9735-4a80-8900-9e06414d8fca",
        "colab": {
          "base_uri": "https://localhost:8080/"
        }
      },
      "execution_count": null,
      "outputs": [
        {
          "output_type": "stream",
          "name": "stdout",
          "text": [
            "True\n",
            "False\n",
            "False\n",
            "False\n"
          ]
        }
      ]
    },
    {
      "cell_type": "markdown",
      "source": [
        "We can now revert to the lecture notes where we will review some of the things we have studied using pseudocode."
      ],
      "metadata": {
        "id": "bi5JcSKOKE71"
      }
    },
    {
      "cell_type": "markdown",
      "source": [
        "# UNDER CONSTRUCTION."
      ],
      "metadata": {
        "id": "W01lcaBaK_K1"
      }
    },
    {
      "cell_type": "markdown",
      "source": [
        "DO WE FIRST DO LOOPS? Or we can introduce for loops only in order to iterate through a loop. Arrays, lists, and dictionaries"
      ],
      "metadata": {
        "id": "Y5JkTQs_MIce"
      }
    },
    {
      "cell_type": "markdown",
      "source": [
        "In this section we will study how we can store various sets of data that are related to each other, rather than storing various quantities in individual variables. We shall see how this allows us to think of various associated operations in simpler terms, and use built in functions in the python language and its libraries to handle large data sets more easily. We begin by studying arrays.\n"
      ],
      "metadata": {
        "id": "qGd-dQUcLHVk"
      }
    },
    {
      "cell_type": "code",
      "source": [
        "# prompt: Create a new array to store the height of 5 boxes. Take a user input for the boxes as an array. Sort the heights of the boxes.\n",
        "\n",
        "height_of_boxes = []\n",
        "for i in range(5):\n",
        "  height = float(input(\"Enter height of box \" + str(i+1) + \": \"))\n",
        "  height_of_boxes.append(height)\n",
        "height_of_boxes.sort()\n",
        "print(height_of_boxes)\n"
      ],
      "metadata": {
        "colab": {
          "base_uri": "https://localhost:8080/"
        },
        "id": "8AmvYdB8LmGt",
        "outputId": "b10df416-485e-49d1-fb91-fc8de32dcc60"
      },
      "execution_count": null,
      "outputs": [
        {
          "output_type": "stream",
          "name": "stdout",
          "text": [
            "Enter height of box 1: 22\n",
            "Enter height of box 2: 33\n",
            "Enter height of box 3: 32\n",
            "Enter height of box 4: 52\n",
            "Enter height of box 5: 11\n",
            "[11.0, 22.0, 32.0, 33.0, 52.0]\n"
          ]
        }
      ]
    },
    {
      "cell_type": "markdown",
      "source": [
        "Let us consider the height based name sorting problem that we considered in a previous lesson. We have three people with three heights, and we want to sort the names according to height.\n",
        "One way to store the names and the heights is in an array as given below."
      ],
      "metadata": {
        "id": "ZXNrJW7dMEo7"
      }
    },
    {
      "cell_type": "code",
      "source": [
        "Names=[\"John\",\"Joan\",\"William\"]\n",
        "Heights=[1.5, 1.4, 1.6]\n",
        "print(Names)\n",
        "print(Heights)"
      ],
      "metadata": {
        "colab": {
          "base_uri": "https://localhost:8080/"
        },
        "id": "iTNY_-4MMbO5",
        "outputId": "5fa685a5-f8c8-417f-a1f1-eb6a6c972c6f"
      },
      "execution_count": null,
      "outputs": [
        {
          "output_type": "stream",
          "name": "stdout",
          "text": [
            "['John', 'Joan', 'William']\n",
            "[1.5, 1.4, 1.6]\n"
          ]
        }
      ]
    },
    {
      "cell_type": "markdown",
      "source": [
        "We can get only the name and height of one person."
      ],
      "metadata": {
        "id": "nu4E5C_bNpLg"
      }
    },
    {
      "cell_type": "code",
      "source": [
        "\n",
        "print(Names[0])\n",
        "print(Heights[0])"
      ],
      "metadata": {
        "colab": {
          "base_uri": "https://localhost:8080/"
        },
        "id": "r-5I-_vfNmhS",
        "outputId": "0af8ca20-8e54-4a9a-985f-3297a4c6470c"
      },
      "execution_count": null,
      "outputs": [
        {
          "output_type": "stream",
          "name": "stdout",
          "text": [
            "John\n",
            "1.5\n"
          ]
        }
      ]
    },
    {
      "cell_type": "code",
      "source": [
        "print(Names[1])\n",
        "print(Heights[1])"
      ],
      "metadata": {
        "colab": {
          "base_uri": "https://localhost:8080/"
        },
        "id": "Me2uxTsoN4jD",
        "outputId": "b4c38453-be20-4100-a348-ca812e5d6f72"
      },
      "execution_count": null,
      "outputs": [
        {
          "output_type": "stream",
          "name": "stdout",
          "text": [
            "Joan\n",
            "1.4\n"
          ]
        }
      ]
    },
    {
      "cell_type": "markdown",
      "source": [
        "Notice that the 1st set of entries are labelled, or indexed, by 0. The second set of entries are labelled by 1. The counter of for indexing arrays and other data structures starts by 0 in python."
      ],
      "metadata": {
        "id": "wbdF7lvlN5FO"
      }
    },
    {
      "cell_type": "markdown",
      "source": [
        "We can add a new name and a new height to each of these using the append command."
      ],
      "metadata": {
        "id": "qFhBx0YSNXim"
      }
    },
    {
      "cell_type": "code",
      "source": [
        "Names.append(\"James\")\n",
        "Heights.append(1.7)\n",
        "print(Names)\n",
        "print(Heights)"
      ],
      "metadata": {
        "colab": {
          "base_uri": "https://localhost:8080/"
        },
        "id": "HerVsgbtOOzV",
        "outputId": "be67cdd4-154d-462c-f023-a9bc736651af"
      },
      "execution_count": null,
      "outputs": [
        {
          "output_type": "stream",
          "name": "stdout",
          "text": [
            "['John', 'Joan', 'William', 'James']\n",
            "[1.5, 1.4, 1.6, 1.7]\n"
          ]
        }
      ]
    },
    {
      "cell_type": "code",
      "source": [
        "Names.append(\"James\")\n",
        "Heights.append(1.4)\n",
        "print(Names)\n",
        "print(Heights)"
      ],
      "metadata": {
        "colab": {
          "base_uri": "https://localhost:8080/"
        },
        "id": "5NYjG0mPOkW8",
        "outputId": "238eb9dd-a05e-4329-f6f9-32b6a4595652"
      },
      "execution_count": null,
      "outputs": [
        {
          "output_type": "stream",
          "name": "stdout",
          "text": [
            "['John', 'Joan', 'William', 'James', 'James']\n",
            "[1.5, 1.4, 1.6, 1.7, 1.4]\n"
          ]
        }
      ]
    },
    {
      "cell_type": "markdown",
      "source": [
        "Observe that we can have multiple entries. In fact the two arrays are not directly related in the machine and we can treat them separately."
      ],
      "metadata": {
        "id": "NNFHld2vOssh"
      }
    },
    {
      "cell_type": "code",
      "source": [
        "Names.append(\"Jane\")\n",
        "print(Names)\n",
        "print(Heights)"
      ],
      "metadata": {
        "colab": {
          "base_uri": "https://localhost:8080/"
        },
        "id": "imXRkzDBO2_j",
        "outputId": "987ee5bb-4d1d-4f4e-ccf4-ac1b3e991c16"
      },
      "execution_count": null,
      "outputs": [
        {
          "output_type": "stream",
          "name": "stdout",
          "text": [
            "['John', 'Joan', 'William', 'James', 'James', 'Jane']\n",
            "[1.5, 1.4, 1.6, 1.7, 1.4]\n"
          ]
        }
      ]
    },
    {
      "cell_type": "markdown",
      "source": [
        "Lets take a subset of the above array. Let's take the 1st three entries and make a new array called Names_1"
      ],
      "metadata": {
        "id": "k8psdznFPQRR"
      }
    },
    {
      "cell_type": "code",
      "source": [
        "Names_1=Names[0:3]\n",
        "print(Names_1)\n",
        "print(Names[3])"
      ],
      "metadata": {
        "colab": {
          "base_uri": "https://localhost:8080/"
        },
        "id": "jKf402JNPceL",
        "outputId": "bbf1cccb-b9fa-4ef4-ce06-af2d358b841b"
      },
      "execution_count": null,
      "outputs": [
        {
          "output_type": "stream",
          "name": "stdout",
          "text": [
            "['John', 'Joan', 'William']\n",
            "James\n"
          ]
        }
      ]
    },
    {
      "cell_type": "markdown",
      "source": [
        "We used 0:3, so it \"sliced\" the array and took the entries starting from the index 0, upto the index 3, but without the 4th index which is labelled by 3, which was \"William\".\n",
        "\n",
        "Question:Can you try slicing a different subset?\n",
        "Try a subset with the 2nd and the third entry."
      ],
      "metadata": {
        "id": "NDvdt89ZPiMF"
      }
    },
    {
      "cell_type": "code",
      "source": [
        "Names=[\"John\",\"Joan\",\"William\"]\n",
        "Heights=[1.5, 1.4, 1.6]\n",
        "Names_2=Names[1:3]\n",
        "print(Names_2)"
      ],
      "metadata": {
        "colab": {
          "base_uri": "https://localhost:8080/"
        },
        "id": "NQ9dyCe3gTgE",
        "outputId": "013232e7-8a03-4699-ea67-551fb04627dc"
      },
      "execution_count": null,
      "outputs": [
        {
          "output_type": "stream",
          "name": "stdout",
          "text": [
            "['John', 'Joan', 'William']\n",
            "[1.5, 1.4, 1.6]\n",
            "['Joan', 'William']\n"
          ]
        }
      ]
    },
    {
      "cell_type": "markdown",
      "source": [
        "How about taking two subsets and combing them.\n",
        "Let's use a simpler example for manipulations. I will declare an array A with 6 numbers and take two subsets, of the first two and the last two numbers. Then I will combine them."
      ],
      "metadata": {
        "id": "RnIZlzuJgq_2"
      }
    },
    {
      "cell_type": "code",
      "source": [
        "A=[1,2,3,4,5,6]\n",
        "A_1=A[0:2]\n",
        "A_2=A[4:6]\n",
        "A_3=A_1+A_2\n",
        "print(A_3)\n"
      ],
      "metadata": {
        "colab": {
          "base_uri": "https://localhost:8080/"
        },
        "id": "9qkK5-ccgzju",
        "outputId": "f4e553a5-a864-44fc-f844-7c9828609249"
      },
      "execution_count": null,
      "outputs": [
        {
          "output_type": "stream",
          "name": "stdout",
          "text": [
            "[1, 2, 5, 6]\n"
          ]
        }
      ]
    },
    {
      "cell_type": "markdown",
      "source": [
        "So this is another operation for which the symbol is +."
      ],
      "metadata": {
        "id": "-5LzUpnIhLgm"
      }
    },
    {
      "cell_type": "code",
      "source": [
        "A=[\"s\",\"t\"]\n",
        "B=[\"a\",\"b\"]\n",
        "C=A+B\n",
        "print(C)"
      ],
      "metadata": {
        "colab": {
          "base_uri": "https://localhost:8080/"
        },
        "id": "Uwg9x3wOhgGg",
        "outputId": "f1ac3ee4-5ef7-4a6d-b4b3-88c413465805"
      },
      "execution_count": null,
      "outputs": [
        {
          "output_type": "stream",
          "name": "stdout",
          "text": [
            "['s', 't', 'a', 'b']\n"
          ]
        }
      ]
    },
    {
      "cell_type": "markdown",
      "source": [
        "Arrays are very flexible. They can store different data types within even the same array."
      ],
      "metadata": {
        "id": "KnnaPFqlhq9y"
      }
    },
    {
      "cell_type": "code",
      "source": [
        "A=[\"s\",1]\n",
        "print(A[0])\n",
        "print(A[1])"
      ],
      "metadata": {
        "colab": {
          "base_uri": "https://localhost:8080/"
        },
        "id": "ZIeIHe-nhige",
        "outputId": "aa7c2898-67bd-4734-a77d-72b9e4662db4"
      },
      "execution_count": null,
      "outputs": [
        {
          "output_type": "stream",
          "name": "stdout",
          "text": [
            "s\n",
            "1\n"
          ]
        }
      ]
    },
    {
      "cell_type": "markdown",
      "source": [
        "I feel like this has become too technical somehow. Maybe its best to introduce nicer, more useful code, before explaining more abstract code.\n",
        "Not everyone will appreciate the power of abstraction initially."
      ],
      "metadata": {
        "id": "_wvln94hhztN"
      }
    },
    {
      "cell_type": "markdown",
      "source": [
        "# Construction. Loops"
      ],
      "metadata": {
        "id": "olPRwC16jjGQ"
      }
    },
    {
      "cell_type": "markdown",
      "source": [
        "In many day to day activities, we have to do somethings repeatedly. For instance if we are taking the marks of students in a class and finding the class average various subjects, we have to take the average of values for each subject.\n",
        "This is one instance where loops help us. Let's begin with a simple example of finding class averages."
      ],
      "metadata": {
        "id": "ez-mGW0hjojP"
      }
    },
    {
      "cell_type": "code",
      "source": [
        "# prompt: Create a dictionary with three students and their marks for a subject maths\n",
        "\n",
        "student_marks = {\n",
        "    \"Alice\": 85,\n",
        "    \"Bob\": 72,\n",
        "    \"Charlie\": 90\n",
        "}\n",
        "print(student_marks)\n"
      ],
      "metadata": {
        "id": "SqmJmL88kK6H"
      },
      "execution_count": null,
      "outputs": []
    },
    {
      "cell_type": "code",
      "source": [
        "# prompt: Now compute the average marks for maths\n",
        "\n",
        "student_marks = {\n",
        "    \"Alice\": 85,\n",
        "    \"Bob\": 72,\n",
        "    \"Charlie\": 90\n",
        "}\n",
        "total_marks = 0\n",
        "for student in student_marks:\n",
        "  total_marks += student_marks[student]\n",
        "average_marks = total_marks / len(student_marks)\n",
        "print(\"Average marks for maths:\", average_marks)\n"
      ],
      "metadata": {
        "id": "6FYeKtbdkVc8"
      },
      "execution_count": null,
      "outputs": []
    }
  ]
}